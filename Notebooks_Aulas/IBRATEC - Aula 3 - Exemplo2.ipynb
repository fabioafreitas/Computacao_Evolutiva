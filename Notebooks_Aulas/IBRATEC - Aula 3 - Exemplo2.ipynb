{
 "cells": [
  {
   "cell_type": "code",
   "execution_count": 1,
   "metadata": {},
   "outputs": [],
   "source": [
    "import random\n",
    "import numpy\n",
    "import math\n",
    "\n",
    "from deap import base\n",
    "from deap import creator\n",
    "from deap import tools\n",
    "from deap import algorithms"
   ]
  },
  {
   "cell_type": "code",
   "execution_count": 2,
   "metadata": {},
   "outputs": [],
   "source": [
    "creator.create(\"FitnessMin\", base.Fitness, weights=(-1.0,))\n",
    "creator.create(\"Individual\", list, fitness=creator.FitnessMin)"
   ]
  },
  {
   "cell_type": "code",
   "execution_count": 3,
   "metadata": {},
   "outputs": [],
   "source": [
    "NUMBER_OF_CITIES=4\n",
    "\n",
    "toolbox = base.Toolbox()\n",
    "toolbox.register(\"indices\", random.sample, range(NUMBER_OF_CITIES), NUMBER_OF_CITIES)\n",
    "toolbox.register(\"individual\", tools.initIterate, creator.Individual,\n",
    "                 toolbox.indices)\n",
    "toolbox.register(\"population\", tools.initRepeat, list, toolbox.individual)"
   ]
  },
  {
   "cell_type": "code",
   "execution_count": 4,
   "metadata": {},
   "outputs": [],
   "source": [
    "def my_evaluate(individual):\n",
    "    \n",
    "    matrix_costs = [[0,2,6,3],\n",
    "                    [2,0,4,7],\n",
    "                    [6,4,0,2],\n",
    "                    [3,7,2,0]]\n",
    "    \n",
    "    dist = 0\n",
    "    \n",
    "    for i in range(NUMBER_OF_CITIES):\n",
    "        current_city = individual[i]\n",
    "        \n",
    "        if i == NUMBER_OF_CITIES-1:\n",
    "            next_city = individual[0]\n",
    "        else:\n",
    "            next_city = individual[i+1]\n",
    "            \n",
    "        dist = dist + matrix_costs[current_city][next_city]\n",
    "    \n",
    "    return dist,"
   ]
  },
  {
   "cell_type": "code",
   "execution_count": 5,
   "metadata": {},
   "outputs": [],
   "source": [
    "toolbox.register(\"evaluate\", my_evaluate)\n",
    "toolbox.register(\"mate\", tools.cxPartialyMatched)\n",
    "toolbox.register(\"mutate\", tools.mutShuffleIndexes, indpb=0.05)\n",
    "toolbox.register(\"select\", tools.selTournament, tournsize=3)"
   ]
  },
  {
   "cell_type": "code",
   "execution_count": 6,
   "metadata": {},
   "outputs": [],
   "source": [
    "def main():\n",
    "    random.seed(64)\n",
    "    \n",
    "    pop = toolbox.population(n=20)\n",
    "    hof = tools.HallOfFame(1)\n",
    "    stats = tools.Statistics(lambda ind: ind.fitness.values)\n",
    "    stats.register(\"avg\", numpy.mean)\n",
    "    stats.register(\"std\", numpy.std)\n",
    "    stats.register(\"min\", numpy.min)\n",
    "    stats.register(\"max\", numpy.max)\n",
    "    \n",
    "    pop, log = algorithms.eaSimple(pop, toolbox, cxpb=0.5, mutpb=0.2, ngen=20, \n",
    "                                   stats=stats, halloffame=hof, verbose=True)\n",
    "    \n",
    "    return pop, log, hof"
   ]
  },
  {
   "cell_type": "code",
   "execution_count": 7,
   "metadata": {},
   "outputs": [
    {
     "name": "stdout",
     "output_type": "stream",
     "text": [
      "gen\tnevals\tavg  \tstd    \tmin\tmax\n",
      "0  \t20    \t16.25\t4.01092\t11 \t20 \n",
      "1  \t17    \t15.35\t4.07768\t11 \t20 \n",
      "2  \t11    \t13.55\t3.58434\t11 \t20 \n",
      "3  \t13    \t12.65\t3.35075\t11 \t20 \n",
      "4  \t14    \t11.9 \t2.14243\t11 \t17 \n",
      "5  \t13    \t11   \t0      \t11 \t11 \n",
      "6  \t10    \t11   \t0      \t11 \t11 \n",
      "7  \t11    \t11   \t0      \t11 \t11 \n",
      "8  \t13    \t11   \t0      \t11 \t11 \n",
      "9  \t15    \t11.45\t1.9615 \t11 \t20 \n",
      "10 \t10    \t11.45\t1.9615 \t11 \t20 \n",
      "11 \t15    \t11.45\t1.9615 \t11 \t20 \n",
      "12 \t13    \t11   \t0      \t11 \t11 \n",
      "13 \t10    \t12.35\t3.21364\t11 \t20 \n",
      "14 \t13    \t11.75\t2.29946\t11 \t20 \n",
      "15 \t17    \t11.9 \t2.14243\t11 \t17 \n",
      "16 \t11    \t11   \t0      \t11 \t11 \n",
      "17 \t9     \t11.45\t1.9615 \t11 \t20 \n",
      "18 \t11    \t11.45\t1.9615 \t11 \t20 \n",
      "19 \t13    \t11   \t0      \t11 \t11 \n",
      "20 \t14    \t11   \t0      \t11 \t11 \n",
      "[[1, 0, 3, 2], [1, 2, 3, 0], [1, 2, 3, 0], [1, 0, 3, 2], [1, 2, 3, 0], [1, 2, 3, 0], [1, 2, 3, 0], [1, 2, 3, 0], [1, 2, 3, 0], [1, 2, 3, 0], [1, 2, 3, 0], [1, 2, 3, 0], [1, 2, 3, 0], [1, 2, 3, 0], [1, 0, 3, 2], [1, 2, 3, 0], [1, 0, 3, 2], [1, 2, 3, 0], [1, 2, 3, 0], [1, 2, 3, 0]]\n",
      "Best: [[3, 0, 1, 2]]\n"
     ]
    }
   ],
   "source": [
    "if __name__ == \"__main__\":\n",
    "    results = main()\n",
    "    \n",
    "    print(results[0])\n",
    "    print(\"Best:\",results[2])"
   ]
  },
  {
   "cell_type": "code",
   "execution_count": null,
   "metadata": {},
   "outputs": [],
   "source": []
  }
 ],
 "metadata": {
  "kernelspec": {
   "display_name": "Python 3",
   "language": "python",
   "name": "python3"
  },
  "language_info": {
   "codemirror_mode": {
    "name": "ipython",
    "version": 3
   },
   "file_extension": ".py",
   "mimetype": "text/x-python",
   "name": "python",
   "nbconvert_exporter": "python",
   "pygments_lexer": "ipython3",
   "version": "3.7.1"
  }
 },
 "nbformat": 4,
 "nbformat_minor": 2
}
