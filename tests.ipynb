{
 "cells": [
  {
   "cell_type": "code",
   "execution_count": 14,
   "metadata": {},
   "outputs": [
    {
     "name": "stdout",
     "output_type": "stream",
     "text": [
      "Teste da classe de grafos, criando uma solução aleatória e plotando o grafo de peter san\n",
      "Solução =  [1 2 4 2 3 2 2 2 1 1]\n",
      "Número de cores= 4\n"
     ]
    }
   ],
   "source": [
    "import networkx as nx\n",
    "import matplotlib.pyplot as plt\n",
    "import numpy as np\n",
    "\n",
    "class ProblemaColoracaoGrafo:\n",
    "    def __init__(self, grafo, penalidadeRestricaoRigida):\n",
    "        self.grafo = grafo\n",
    "        self.penalidadeRestricaoRigida = penalidadeRestricaoRigida\n",
    "        self. ListaNodes = list (self.grafo.nodes)\n",
    "        self.MatrizAdj = nx.adjacency_matrix(grafo).todense()\n",
    "\n",
    "    def __len__(self):\n",
    "        return nx.number_of_nodes (self.grafo)\n",
    "\n",
    "    def calculoCusto(self, arranjoCores):\n",
    "        return self.numerodeCores(arranjoCores) + \\\n",
    "            self.penalidadeRestricaoRigida*self.quantidadeViolacoes(arranjoCores)\n",
    "\n",
    "    def quantidadeViolacoes (self, arranjoCores):\n",
    "        violacoes = 0\n",
    "        for i in range (len (arranjoCores)):\n",
    "            for j in range(i+1, len(arranjoCores)): \n",
    "                if self.MatrizAdj[i, j]:  # se vertice i e j forem conexos, faça:\n",
    "                    if arranjoCores[i] == arranjoCores [j]: \n",
    "                        violacoes += 1\n",
    "                        \n",
    "        return violacoes\n",
    "\n",
    "    def numerodeCores (self, arranjoCores):\n",
    "        return len(set(arranjoCores))\n",
    "\n",
    "    def plotarGrafo(self, arranjoCores):\n",
    "        listadeCores = list(set(arranjoCores))\n",
    "        cores = plt.cm.rainbow(np.linspace(0, 1, len(listadeCores)))\n",
    "        mapadeCores = []\n",
    "        for i in range (self.__len__()):\n",
    "            cor = cores[listadeCores.index (arranjoCores[i])]\n",
    "            mapadeCores.append(cor)\n",
    "\n",
    "        pos = nx. shell_layout (self.grafo, nlist=[range (5, 10), range(5)], rotate=0)\n",
    "        nx.draw(self.grafo, pos, \n",
    "                font_weight='bold',\n",
    "                node_color= mapadeCores, cmap=cores)\n",
    "\n",
    "        return plt\n",
    "\n",
    "def main ():\n",
    "    gcp = ProblemaColoracaoGrafo(nx.petersen_graph(), 10)\n",
    "    solution = np.random.randint(5, size=len(gcp))\n",
    "    print(\"Teste da classe de grafos, criando uma solução aleatória e plotando o grafo de peter san\")\n",
    "    print(\"Solução = \", solution)\n",
    "    print(\"Número de cores=\", gcp.numerodeCores (solution))\n",
    "    print(\"Número de violações=\", gcp.quantidadeViolacoes (solution))\n",
    "    print(\"Custo = \", gcp.calculoCusto(solution))\n",
    "    plot = gcp.plotarGrafo(solution)\n",
    "    plot.show()\n",
    "\n",
    "if __name__ == '__main__':\n",
    "    main()"
   ]
  }
 ],
 "metadata": {
  "interpreter": {
   "hash": "20af75dfd6dfa473d822f440206cff2a5e4935fb6a4eaa7382aa146de2c3425d"
  },
  "kernelspec": {
   "display_name": "Python 3.7.9 64-bit ('env': venv)",
   "language": "python",
   "name": "python3"
  },
  "language_info": {
   "codemirror_mode": {
    "name": "ipython",
    "version": 3
   },
   "file_extension": ".py",
   "mimetype": "text/x-python",
   "name": "python",
   "nbconvert_exporter": "python",
   "pygments_lexer": "ipython3",
   "version": "3.7.9"
  },
  "orig_nbformat": 4
 },
 "nbformat": 4,
 "nbformat_minor": 2
}
