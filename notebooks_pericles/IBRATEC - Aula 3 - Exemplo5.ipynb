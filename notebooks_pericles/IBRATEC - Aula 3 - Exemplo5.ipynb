{
 "cells": [
  {
   "cell_type": "code",
   "execution_count": 1,
   "metadata": {},
   "outputs": [
    {
     "name": "stderr",
     "output_type": "stream",
     "text": [
      "C:\\Users\\Péricles\\Anaconda3\\lib\\site-packages\\deap\\tools\\_hypervolume\\pyhv.py:33: ImportWarning: Falling back to the python version of hypervolume module. Expect this to be very slow.\n",
      "  \"module. Expect this to be very slow.\", ImportWarning)\n"
     ]
    }
   ],
   "source": [
    "import operator\n",
    "import math\n",
    "import random\n",
    "import matplotlib.pyplot as plt\n",
    "\n",
    "import numpy\n",
    "\n",
    "from deap import algorithms\n",
    "from deap import base\n",
    "from deap import creator\n",
    "from deap import tools\n",
    "from deap import gp"
   ]
  },
  {
   "cell_type": "code",
   "execution_count": 2,
   "metadata": {},
   "outputs": [],
   "source": [
    "# Define new functions\n",
    "def protectedDiv(left, right):\n",
    "    try:\n",
    "        return left / right\n",
    "    except ZeroDivisionError:\n",
    "        return 1\n",
    "\n",
    "pset = gp.PrimitiveSet(\"MAIN\", 1)\n",
    "pset.addPrimitive(operator.add, 2)\n",
    "pset.addPrimitive(operator.sub, 2)\n",
    "pset.addPrimitive(operator.mul, 2)\n",
    "pset.addPrimitive(protectedDiv, 2)\n",
    "pset.addPrimitive(operator.neg, 1)\n",
    "pset.addPrimitive(math.cos, 1)\n",
    "pset.addPrimitive(math.sin, 1)\n",
    "pset.addEphemeralConstant(\"rand101\", lambda: random.randint(-1,1))\n",
    "pset.renameArguments(ARG0='x')"
   ]
  },
  {
   "cell_type": "code",
   "execution_count": 3,
   "metadata": {},
   "outputs": [],
   "source": [
    "creator.create(\"FitnessMin\", base.Fitness, weights=(-1.0,))\n",
    "creator.create(\"Individual\", gp.PrimitiveTree, fitness=creator.FitnessMin)\n",
    "\n",
    "toolbox = base.Toolbox()\n",
    "toolbox.register(\"expr\", gp.genHalfAndHalf, pset=pset, min_=1, max_=2)\n",
    "toolbox.register(\"individual\", tools.initIterate, creator.Individual, toolbox.expr)\n",
    "toolbox.register(\"population\", tools.initRepeat, list, toolbox.individual)\n",
    "toolbox.register(\"compile\", gp.compile, pset=pset)"
   ]
  },
  {
   "cell_type": "code",
   "execution_count": 4,
   "metadata": {},
   "outputs": [],
   "source": [
    "def evalSymbReg(individual, points):\n",
    "    # Transform the tree expression in a callable function\n",
    "    func = toolbox.compile(expr=individual)\n",
    "    # Evaluate the mean squared error between the expression\n",
    "    # and the real function : x**4 + x**3 + x**2 + x\n",
    "    sqerrors = ((func(x) - x**4 - x**3 - x**2 - x)**2 for x in points)\n",
    "    return math.fsum(sqerrors) / len(points),"
   ]
  },
  {
   "cell_type": "code",
   "execution_count": 5,
   "metadata": {},
   "outputs": [],
   "source": [
    "toolbox.register(\"evaluate\", evalSymbReg, points=[x/10. for x in range(-10,10)])\n",
    "toolbox.register(\"select\", tools.selTournament, tournsize=3)\n",
    "toolbox.register(\"mate\", gp.cxOnePoint)\n",
    "toolbox.register(\"expr_mut\", gp.genFull, min_=0, max_=2)\n",
    "toolbox.register(\"mutate\", gp.mutUniform, expr=toolbox.expr_mut, pset=pset)\n",
    "\n",
    "toolbox.decorate(\"mate\", gp.staticLimit(key=operator.attrgetter(\"height\"), max_value=17))\n",
    "toolbox.decorate(\"mutate\", gp.staticLimit(key=operator.attrgetter(\"height\"), max_value=17))"
   ]
  },
  {
   "cell_type": "code",
   "execution_count": 6,
   "metadata": {},
   "outputs": [],
   "source": [
    "def main():\n",
    "    random.seed(318)\n",
    "\n",
    "    pop = toolbox.population(n=50)\n",
    "    hof = tools.HallOfFame(1)\n",
    "    \n",
    "    stats_fit = tools.Statistics(lambda ind: ind.fitness.values)\n",
    "    stats_size = tools.Statistics(len)\n",
    "    mstats = tools.MultiStatistics(fitness=stats_fit, size=stats_size)\n",
    "    mstats.register(\"avg\", numpy.mean)\n",
    "    mstats.register(\"std\", numpy.std)\n",
    "    mstats.register(\"min\", numpy.min)\n",
    "    mstats.register(\"max\", numpy.max)\n",
    "    \n",
    "    pop, log = algorithms.eaSimple(pop, toolbox, 0.5, 0.1, 30, stats=mstats,\n",
    "                                   halloffame=hof, verbose=True)\n",
    "    \n",
    "    return pop, log, hof"
   ]
  },
  {
   "cell_type": "code",
   "execution_count": 7,
   "metadata": {},
   "outputs": [],
   "source": [
    "def plot(original_function, candidate_function):\n",
    "        \n",
    "        x_values = [x/10. for x in range(-10,10)]\n",
    "        \n",
    "        print(x_values)\n",
    "        \n",
    "        original_points = []\n",
    "        candidate_points = []\n",
    "        \n",
    "        for value in x_values:\n",
    "            original_points.append(original_function(value))\n",
    "            candidate_points.append(candidate_function(value))\n",
    "        \n",
    "        plt.plot(x_values, original_points, 'k', x_values, candidate_points, 'r')\n",
    "        plt.show()"
   ]
  },
  {
   "cell_type": "code",
   "execution_count": 9,
   "metadata": {},
   "outputs": [
    {
     "name": "stdout",
     "output_type": "stream",
     "text": [
      "   \t      \t                fitness                \t              size             \n",
      "   \t      \t---------------------------------------\t-------------------------------\n",
      "gen\tnevals\tavg   \tmax  \tmin     \tstd    \tavg \tmax\tmin\tstd    \n",
      "0  \t50    \t2.0373\t30.34\t0.483609\t4.16881\t3.82\t7  \t2  \t1.76284\n",
      "1  \t29    \t1.11548\t3.35292\t0.483609\t0.633998\t3.2 \t7  \t2  \t1.29615\n",
      "2  \t28    \t1.09026\t2.9829 \t0.564583\t0.626726\t3.18\t7  \t1  \t1.32197\n",
      "3  \t35    \t0.82779\t2.9829 \t0.564583\t0.440574\t3.08\t9  \t1  \t1.38333\n",
      "4  \t32    \t0.745502\t2.552  \t0.564583\t0.351867\t3.32\t9  \t1  \t2.01435\n",
      "5  \t32    \t0.742672\t2.3179 \t0.328818\t0.483746\t3.18\t9  \t1  \t2.18806\n",
      "6  \t29    \t0.652508\t1.81191\t0.328818\t0.251397\t2.98\t9  \t1  \t2.06388\n",
      "7  \t31    \t0.880678\t2.9829 \t0.328818\t0.726034\t3.38\t9  \t1  \t2.30556\n",
      "8  \t33    \t0.62051 \t2.3179 \t0.328818\t0.332198\t3.98\t14 \t1  \t2.90165\n",
      "9  \t20    \t0.553641\t2.54124\t0.328818\t0.359949\t4.68\t13 \t1  \t2.97617\n",
      "10 \t31    \t0.687706\t2.54124\t0.328818\t0.609318\t5.52\t11 \t1  \t2.34299\n",
      "11 \t27    \t0.47376 \t2.76958\t0.328818\t0.39604 \t5.7 \t10 \t3  \t1.253  \n",
      "12 \t29    \t0.598004\t2.54124\t0.328818\t0.557746\t5.44\t10 \t3  \t1.41647\n",
      "13 \t31    \t0.548219\t2.54124\t0.328818\t0.508905\t5.28\t11 \t1  \t1.84434\n",
      "14 \t24    \t0.619111\t2.54124\t0.274004\t0.60965 \t4.92\t9  \t3  \t0.996795\n",
      "15 \t32    \t0.786105\t2.9829 \t0.274004\t0.758789\t5.18\t11 \t3  \t1.64548 \n",
      "16 \t29    \t0.794766\t2.54124\t0.274004\t0.697684\t4.74\t8  \t3  \t1.32378 \n",
      "17 \t30    \t0.606333\t2.64635\t0.274004\t0.514057\t5.02\t10 \t3  \t1.55551 \n",
      "18 \t30    \t0.815555\t5.58231\t0.274004\t0.943789\t5.1 \t10 \t3  \t1.52643 \n",
      "19 \t31    \t0.686455\t2.54124\t0.274004\t0.557888\t5.1 \t10 \t1  \t1.72337 \n",
      "20 \t29    \t0.800261\t6.02997\t0.274004\t0.969883\t5.24\t9  \t1  \t1.66805 \n",
      "21 \t22    \t0.744116\t14.0522\t0.274004\t1.93411 \t6.08\t11 \t4  \t1.56    \n",
      "22 \t21    \t0.499035\t2.34504\t0.274004\t0.405188\t5.98\t10 \t1  \t1.71453 \n",
      "23 \t28    \t0.380644\t1.58815\t0.274004\t0.224124\t6.12\t10 \t3  \t1.42324 \n",
      "24 \t31    \t0.720603\t2.73457\t0.274004\t0.700816\t6.06\t10 \t3  \t1.51539 \n",
      "25 \t29    \t0.571997\t2.99872\t0.165572\t0.577975\t6.28\t11 \t3  \t1.54971 \n",
      "26 \t31    \t0.500017\t2.07109\t0.165572\t0.406385\t6.16\t10 \t1  \t1.83695 \n",
      "27 \t32    \t0.545594\t2.18385\t0.16385 \t0.491289\t6.74\t11 \t3  \t2.13364 \n",
      "28 \t32    \t0.43832 \t1.22958\t0.16385 \t0.258542\t7.18\t15 \t1  \t2.68842 \n",
      "29 \t29    \t0.46153 \t2.01389\t0.16385 \t0.362502\t7.88\t15 \t2  \t2.28596 \n",
      "30 \t28    \t0.49061 \t5.23075\t0.0976781\t0.747314\t8.24\t17 \t3  \t3.0761  \n",
      "add(add(add(mul(x, x), 0), mul(x, cos(1))), x)\n",
      "add(add(add(mul(x, x), 0), mul(x, cos(1))), x)\n"
     ]
    }
   ],
   "source": [
    "if __name__ == \"__main__\":\n",
    "    results = main()\n",
    "    \n",
    "    expr = results[2][0]\n",
    "    \n",
    "    print(expr)\n",
    "    \n",
    "    \n",
    "    '''PLOTANDO OS GRAFICOS\n",
    "    tree = gp.PrimitiveTree(expr)\n",
    "    \n",
    "    candidate_function = toolbox.compile(tree)\n",
    "    \n",
    "\n",
    "    original_function = lambda x: x**4 + x**3 + x**2 + x\n",
    "    \n",
    "    \n",
    "    plot(original_function, candidate_function)\n",
    "    '''\n",
    "    "
   ]
  },
  {
   "cell_type": "code",
   "execution_count": null,
   "metadata": {},
   "outputs": [],
   "source": []
  }
 ],
 "metadata": {
  "kernelspec": {
   "display_name": "Python 3",
   "language": "python",
   "name": "python3"
  },
  "language_info": {
   "codemirror_mode": {
    "name": "ipython",
    "version": 3
   },
   "file_extension": ".py",
   "mimetype": "text/x-python",
   "name": "python",
   "nbconvert_exporter": "python",
   "pygments_lexer": "ipython3",
   "version": "3.7.1"
  }
 },
 "nbformat": 4,
 "nbformat_minor": 2
}
