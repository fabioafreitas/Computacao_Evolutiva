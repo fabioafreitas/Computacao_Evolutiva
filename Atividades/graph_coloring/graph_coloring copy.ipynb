{
 "cells": [
  {
   "cell_type": "markdown",
   "metadata": {},
   "source": [
    "# Plot Graph"
   ]
  },
  {
   "cell_type": "code",
   "execution_count": 1,
   "metadata": {},
   "outputs": [
    {
     "name": "stdout",
     "output_type": "stream",
     "text": [
      "Teste da classe de grafos, criando uma solução aleatória e plotando o grafo de peter san\n",
      "Solução =  [2 1 0 3 2 2 4 3 3 0]\n",
      "Número de cores= 5\n",
      "Número de violações= 3\n",
      "Custo =  35\n"
     ]
    },
    {
     "data": {
      "image/png": "[encoded data removed]",
      "text/plain": [
       "<Figure size 432x288 with 1 Axes>"
      ]
     },
     "metadata": {},
     "output_type": "display_data"
    }
   ],
   "source": [
    "import networkx as nx\n",
    "import matplotlib.pyplot as plt\n",
    "import numpy as np\n",
    "\n",
    "class ProblemaColoracaoGrafo:\n",
    "    def __init__(self, grafo, penalidadeRestricaoRigida):\n",
    "        self.grafo = grafo\n",
    "        self.penalidadeRestricaoRigida = penalidadeRestricaoRigida\n",
    "        self. ListaNodes = list (self.grafo.nodes)\n",
    "        self.MatrizAdj = nx.adjacency_matrix(grafo).todense()\n",
    "\n",
    "    def __len__(self):\n",
    "        return nx.number_of_nodes (self.grafo)\n",
    "\n",
    "    def calculoCusto(self, arranjoCores):\n",
    "        return self.numerodeCores(arranjoCores) + \\\n",
    "            self.penalidadeRestricaoRigida*self.quantidadeViolacoes(arranjoCores)\n",
    "\n",
    "    def quantidadeViolacoes (self, arranjoCores):\n",
    "        violacoes = 0\n",
    "        for i in range (len (arranjoCores)):\n",
    "            for j in range(i+1, len(arranjoCores)): \n",
    "                if self.MatrizAdj[i, j]:  # se vertice i e j forem conexos, faça:\n",
    "                    if arranjoCores[i] == arranjoCores [j]: \n",
    "                        violacoes += 1\n",
    "                        \n",
    "        return violacoes\n",
    "\n",
    "    def numerodeCores (self, arranjoCores):\n",
    "        return len(set(arranjoCores))\n",
    "\n",
    "    def plotarGrafo(self, arranjoCores):\n",
    "        listadeCores = list(set(arranjoCores))\n",
    "        cores = plt.cm.rainbow(np.linspace(0, 1, len(listadeCores)))\n",
    "        mapadeCores = []\n",
    "        for i in range (self.__len__()):\n",
    "            cor = cores[listadeCores.index (arranjoCores[i])]\n",
    "            mapadeCores.append(cor)\n",
    "\n",
    "        pos = nx. shell_layout (self.grafo, nlist=[range (5, 10), range(5)], rotate=0)\n",
    "        nx.draw(self.grafo, pos, \n",
    "                font_weight='bold',\n",
    "                node_color= mapadeCores, cmap=cores)\n",
    "\n",
    "        return plt\n",
    "\n",
    "def main1():\n",
    "    gcp = ProblemaColoracaoGrafo(nx.petersen_graph(), 10)\n",
    "    solution = np.random.randint(5, size=len(gcp))\n",
    "    print(\"Teste da classe de grafos, criando uma solução aleatória e plotando o grafo de peter san\")\n",
    "    print(\"Solução = \", solution)\n",
    "    print(\"Número de cores=\", gcp.numerodeCores (solution))\n",
    "    print(\"Número de violações=\", gcp.quantidadeViolacoes (solution))\n",
    "    print(\"Custo = \", gcp.calculoCusto(solution))\n",
    "    plot = gcp.plotarGrafo(solution)\n",
    "    plot.show()\n",
    "\n",
    "if __name__ == '__main__':\n",
    "    main1()"
   ]
  },
  {
   "cell_type": "markdown",
   "metadata": {},
   "source": [
    "# Algorithm"
   ]
  },
  {
   "cell_type": "markdown",
   "metadata": {},
   "source": [
    "[post explaining how to do it](https://www.geeksforgeeks.org/project-idea-genetic-algorithms-for-graph-colouring/)"
   ]
  },
  {
   "cell_type": "code",
   "execution_count": 2,
   "metadata": {},
   "outputs": [],
   "source": [
    "from deap import algorithms\n",
    "from deap import base\n",
    "from deap import creator\n",
    "from deap import tools\n",
    "\n",
    "import random\n",
    "import numpy as np\n",
    "\n",
    "import matplotlib.pyplot as plt"
   ]
  },
  {
   "cell_type": "code",
   "execution_count": 3,
   "metadata": {},
   "outputs": [],
   "source": [
    "# constantes do problema:\n",
    "\n",
    "HARD_CONSTRAINT_PENALTY = 10 # o fator de penalidade para i\n",
    "MAX_COLORS = 10\n",
    "\n",
    "gcp = ProblemaColoracaoGrafo(nx.petersen_graph(), HARD_CONSTRAINT_PENALTY)\n",
    "\n",
    "creator.create(\"FitnessMin\", base.Fitness, weights=(-1.0,))\n",
    "creator.create(\"Individual\", list, fitness=creator.FitnessMin)\n",
    "\n",
    "toolbox = base.Toolbox()\n",
    "toolbox.register(\"individual\", list, fitness=creator.FitnessMin)\n",
    "toolbox.register(\"integers\", random.randint, 0, MAX_COLORS - 1)\n",
    "toolbox.register(\"individualCreator\", tools.initRepeat, creator.Individual, toolbox.individual)\n",
    "toolbox.register(\"population\", tools.initRepeat, list, toolbox.individualCreator)\n",
    "\n",
    "def getCost(individual):\n",
    "    return gcp.calculoCusto(individual),\n",
    "\n",
    "toolbox.register(\"evaluate\", getCost)\n",
    "toolbox.register(\"mate\", tools.cxTwoPoint)\n",
    "toolbox.register(\"select\", tools.selTournament, tournsize=2)\n",
    "toolbox.register(\"mutate\", tools.mutUniformInt, low=0, up=MAX_COLORS, indpb=0.05)"
   ]
  },
  {
   "cell_type": "code",
   "execution_count": 8,
   "metadata": {},
   "outputs": [
    {
     "ename": "TypeError",
     "evalue": "initRepeat() missing 1 required positional argument: 'n'",
     "output_type": "error",
     "traceback": [
      "\u001b[1;31m---------------------------------------------------------------------------\u001b[0m",
      "\u001b[1;31mTypeError\u001b[0m                                 Traceback (most recent call last)",
      "\u001b[1;32m~\\AppData\\Local\\Temp/ipykernel_3720/3282424182.py\u001b[0m in \u001b[0;36m<module>\u001b[1;34m\u001b[0m\n\u001b[0;32m      8\u001b[0m     \u001b[0mHALL_OF_FAME_SIZE\u001b[0m \u001b[1;33m=\u001b[0m \u001b[1;36m1\u001b[0m\u001b[1;33m\u001b[0m\u001b[1;33m\u001b[0m\u001b[0m\n\u001b[0;32m      9\u001b[0m \u001b[1;33m\u001b[0m\u001b[0m\n\u001b[1;32m---> 10\u001b[1;33m     \u001b[0mpop\u001b[0m \u001b[1;33m=\u001b[0m \u001b[0mtoolbox\u001b[0m\u001b[1;33m.\u001b[0m\u001b[0mpopulation\u001b[0m\u001b[1;33m(\u001b[0m\u001b[0mn\u001b[0m\u001b[1;33m=\u001b[0m\u001b[1;36m100\u001b[0m\u001b[1;33m)\u001b[0m\u001b[1;33m\u001b[0m\u001b[1;33m\u001b[0m\u001b[0m\n\u001b[0m\u001b[0;32m     11\u001b[0m     \u001b[0mhof\u001b[0m \u001b[1;33m=\u001b[0m \u001b[0mtools\u001b[0m\u001b[1;33m.\u001b[0m\u001b[0mHallOfFame\u001b[0m\u001b[1;33m(\u001b[0m\u001b[0mHALL_OF_FAME_SIZE\u001b[0m\u001b[1;33m)\u001b[0m\u001b[1;33m\u001b[0m\u001b[1;33m\u001b[0m\u001b[0m\n\u001b[0;32m     12\u001b[0m     \u001b[0mstats\u001b[0m \u001b[1;33m=\u001b[0m \u001b[0mtools\u001b[0m\u001b[1;33m.\u001b[0m\u001b[0mStatistics\u001b[0m\u001b[1;33m(\u001b[0m\u001b[1;32mlambda\u001b[0m \u001b[0mind\u001b[0m\u001b[1;33m:\u001b[0m \u001b[0mind\u001b[0m\u001b[1;33m.\u001b[0m\u001b[0mfitness\u001b[0m\u001b[1;33m.\u001b[0m\u001b[0mvalues\u001b[0m\u001b[1;33m)\u001b[0m\u001b[1;33m\u001b[0m\u001b[1;33m\u001b[0m\u001b[0m\n",
      "\u001b[1;32mc:\\Users\\fbioa\\Desktop\\Comp Evol\\env\\lib\\site-packages\\deap\\tools\\init.py\u001b[0m in \u001b[0;36minitRepeat\u001b[1;34m(container, func, n)\u001b[0m\n\u001b[0;32m     23\u001b[0m     \u001b[0mSee\u001b[0m \u001b[0mthe\u001b[0m \u001b[1;33m:\u001b[0m\u001b[0mref\u001b[0m\u001b[1;33m:\u001b[0m\u001b[0;31m`\u001b[0m\u001b[0mlist\u001b[0m\u001b[1;33m-\u001b[0m\u001b[0mof\u001b[0m\u001b[1;33m-\u001b[0m\u001b[0mfloats\u001b[0m\u001b[0;31m`\u001b[0m \u001b[1;32mand\u001b[0m \u001b[1;33m:\u001b[0m\u001b[0mref\u001b[0m\u001b[1;33m:\u001b[0m\u001b[0;31m`\u001b[0m\u001b[0mpopulation\u001b[0m\u001b[0;31m`\u001b[0m \u001b[0mtutorials\u001b[0m \u001b[1;32mfor\u001b[0m \u001b[0mmore\u001b[0m \u001b[0mexamples\u001b[0m\u001b[1;33m.\u001b[0m\u001b[1;33m\u001b[0m\u001b[1;33m\u001b[0m\u001b[0m\n\u001b[0;32m     24\u001b[0m     \"\"\"\n\u001b[1;32m---> 25\u001b[1;33m     \u001b[1;32mreturn\u001b[0m \u001b[0mcontainer\u001b[0m\u001b[1;33m(\u001b[0m\u001b[0mfunc\u001b[0m\u001b[1;33m(\u001b[0m\u001b[1;33m)\u001b[0m \u001b[1;32mfor\u001b[0m \u001b[0m_\u001b[0m \u001b[1;32min\u001b[0m \u001b[0mrange\u001b[0m\u001b[1;33m(\u001b[0m\u001b[0mn\u001b[0m\u001b[1;33m)\u001b[0m\u001b[1;33m)\u001b[0m\u001b[1;33m\u001b[0m\u001b[1;33m\u001b[0m\u001b[0m\n\u001b[0m\u001b[0;32m     26\u001b[0m \u001b[1;33m\u001b[0m\u001b[0m\n\u001b[0;32m     27\u001b[0m \u001b[1;32mdef\u001b[0m \u001b[0minitIterate\u001b[0m\u001b[1;33m(\u001b[0m\u001b[0mcontainer\u001b[0m\u001b[1;33m,\u001b[0m \u001b[0mgenerator\u001b[0m\u001b[1;33m)\u001b[0m\u001b[1;33m:\u001b[0m\u001b[1;33m\u001b[0m\u001b[1;33m\u001b[0m\u001b[0m\n",
      "\u001b[1;32mc:\\Users\\fbioa\\Desktop\\Comp Evol\\env\\lib\\site-packages\\deap\\tools\\init.py\u001b[0m in \u001b[0;36m<genexpr>\u001b[1;34m(.0)\u001b[0m\n\u001b[0;32m     23\u001b[0m     \u001b[0mSee\u001b[0m \u001b[0mthe\u001b[0m \u001b[1;33m:\u001b[0m\u001b[0mref\u001b[0m\u001b[1;33m:\u001b[0m\u001b[0;31m`\u001b[0m\u001b[0mlist\u001b[0m\u001b[1;33m-\u001b[0m\u001b[0mof\u001b[0m\u001b[1;33m-\u001b[0m\u001b[0mfloats\u001b[0m\u001b[0;31m`\u001b[0m \u001b[1;32mand\u001b[0m \u001b[1;33m:\u001b[0m\u001b[0mref\u001b[0m\u001b[1;33m:\u001b[0m\u001b[0;31m`\u001b[0m\u001b[0mpopulation\u001b[0m\u001b[0;31m`\u001b[0m \u001b[0mtutorials\u001b[0m \u001b[1;32mfor\u001b[0m \u001b[0mmore\u001b[0m \u001b[0mexamples\u001b[0m\u001b[1;33m.\u001b[0m\u001b[1;33m\u001b[0m\u001b[1;33m\u001b[0m\u001b[0m\n\u001b[0;32m     24\u001b[0m     \"\"\"\n\u001b[1;32m---> 25\u001b[1;33m     \u001b[1;32mreturn\u001b[0m \u001b[0mcontainer\u001b[0m\u001b[1;33m(\u001b[0m\u001b[0mfunc\u001b[0m\u001b[1;33m(\u001b[0m\u001b[1;33m)\u001b[0m \u001b[1;32mfor\u001b[0m \u001b[0m_\u001b[0m \u001b[1;32min\u001b[0m \u001b[0mrange\u001b[0m\u001b[1;33m(\u001b[0m\u001b[0mn\u001b[0m\u001b[1;33m)\u001b[0m\u001b[1;33m)\u001b[0m\u001b[1;33m\u001b[0m\u001b[1;33m\u001b[0m\u001b[0m\n\u001b[0m\u001b[0;32m     26\u001b[0m \u001b[1;33m\u001b[0m\u001b[0m\n\u001b[0;32m     27\u001b[0m \u001b[1;32mdef\u001b[0m \u001b[0minitIterate\u001b[0m\u001b[1;33m(\u001b[0m\u001b[0mcontainer\u001b[0m\u001b[1;33m,\u001b[0m \u001b[0mgenerator\u001b[0m\u001b[1;33m)\u001b[0m\u001b[1;33m:\u001b[0m\u001b[1;33m\u001b[0m\u001b[1;33m\u001b[0m\u001b[0m\n",
      "\u001b[1;31mTypeError\u001b[0m: initRepeat() missing 1 required positional argument: 'n'"
     ]
    }
   ],
   "source": [
    "if __name__ == \"__main__\":\n",
    "    random.seed(0)\n",
    "\n",
    "    POPULATION_SIZE = 100\n",
    "    P_CROSSOVER = 0.9\n",
    "    P_MUTATION = 0.1\n",
    "    MAX_GENERATIONS = 100\n",
    "    HALL_OF_FAME_SIZE = 1\n",
    "    \n",
    "    pop = toolbox.population(n=100)\n",
    "    hof = tools.HallOfFame(HALL_OF_FAME_SIZE)\n",
    "    stats = tools.Statistics(lambda ind: ind.fitness.values)\n",
    "    stats.register(\"avg\", np.mean)\n",
    "    stats.register(\"min\", np.min)\n",
    "\n",
    "    pop, log = algorithms.eaSimple(\n",
    "        pop, toolbox, \n",
    "        cxpb=P_CROSSOVER, \n",
    "        mutpb=P_MUTATION, \n",
    "        ngen=MAX_GENERATIONS, \n",
    "        stats=stats,\n",
    "        halloffame=hof, \n",
    "        verbose=True)\n",
    "    \n",
    "    print(pop)\n",
    "\n",
    "    gen = log.select('gen')\n",
    "    best_per_gen = log.select('min')\n",
    "    \n",
    "    # fig, ax = plt.subplots()\n",
    "    # ax.plot(gen, best_per_gen)\n",
    "    # ax.grid()\n",
    "    # ax.set(xlabel=\"Gerações\", ylabel=\"Melhor Fitness\")\n",
    "    # plt.show()"
   ]
  }
 ],
 "metadata": {
  "interpreter": {
   "hash": "20af75dfd6dfa473d822f440206cff2a5e4935fb6a4eaa7382aa146de2c3425d"
  },
  "kernelspec": {
   "display_name": "Python 3.7.9 64-bit ('env': venv)",
   "language": "python",
   "name": "python3"
  },
  "language_info": {
   "codemirror_mode": {
    "name": "ipython",
    "version": 3
   },
   "file_extension": ".py",
   "mimetype": "text/x-python",
   "name": "python",
   "nbconvert_exporter": "python",
   "pygments_lexer": "ipython3",
   "version": "3.7.9"
  },
  "orig_nbformat": 4
 },
 "nbformat": 4,
 "nbformat_minor": 2
}
